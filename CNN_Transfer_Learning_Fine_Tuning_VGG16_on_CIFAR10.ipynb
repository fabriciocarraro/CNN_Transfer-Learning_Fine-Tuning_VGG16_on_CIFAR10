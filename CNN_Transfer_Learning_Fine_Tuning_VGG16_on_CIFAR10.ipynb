{
  "nbformat": 4,
  "nbformat_minor": 0,
  "metadata": {
    "colab": {
      "provenance": [],
      "gpuType": "L4",
      "authorship_tag": "ABX9TyMAZhkHmmCi6OZGsJpU9Emx",
      "include_colab_link": true
    },
    "kernelspec": {
      "name": "python3",
      "display_name": "Python 3"
    },
    "language_info": {
      "name": "python"
    },
    "accelerator": "GPU"
  },
  "cells": [
    {
      "cell_type": "markdown",
      "metadata": {
        "id": "view-in-github",
        "colab_type": "text"
      },
      "source": [
        "<a href=\"https://colab.research.google.com/github/fabriciocarraro/CNN_Transfer-Learning_Fine-Tuning_VGG16_on_CIFAR10/blob/main/CNN_Transfer_Learning_Fine_Tuning_VGG16_on_CIFAR10.ipynb\" target=\"_parent\"><img src=\"https://colab.research.google.com/assets/colab-badge.svg\" alt=\"Open In Colab\"/></a>"
      ]
    },
    {
      "cell_type": "code",
      "execution_count": 1,
      "metadata": {
        "id": "kDE22THmn06I"
      },
      "outputs": [],
      "source": [
        "import torch\n",
        "from torch import nn\n",
        "from torch import optim\n",
        "from torchvision import datasets, transforms, models\n",
        "from torch.utils.data import DataLoader\n",
        "import numpy as np\n",
        "from sklearn.metrics import accuracy_score\n",
        "import time\n",
        "import matplotlib.pyplot as plt"
      ]
    },
    {
      "cell_type": "code",
      "source": [
        "# Hyperparameters\n",
        "\n",
        "args = {\n",
        "    'epochs': 10,\n",
        "    'batch_size': 50,\n",
        "    'lr': 1e-3,\n",
        "    'weight_decay': 5e-4  # L2 regularization\n",
        "}\n",
        "\n",
        "args['device'] = torch.device('cuda' if torch.cuda.is_available() else 'cpu')\n",
        "print(\"Using device:\", args['device'])"
      ],
      "metadata": {
        "colab": {
          "base_uri": "https://localhost:8080/"
        },
        "id": "APb9BrzpoPzd",
        "outputId": "4f09bcda-ad4d-4375-fc76-5576aab9400d"
      },
      "execution_count": 2,
      "outputs": [
        {
          "output_type": "stream",
          "name": "stdout",
          "text": [
            "Using device: cuda\n"
          ]
        }
      ]
    },
    {
      "cell_type": "code",
      "source": [
        "# Using \"transforms\" that match VGG16 expectations: 224x224 + normalization\n",
        "data_transform = transforms.Compose([\n",
        "    transforms.Resize(224),\n",
        "    transforms.ToTensor(),\n",
        "    transforms.Normalize(mean=[0.485, 0.456, 0.406],  # The means from VGG\n",
        "                         std=[0.229, 0.224, 0.225])   # The standard deviations from VGG\n",
        "])\n",
        "\n",
        "train_set = datasets.CIFAR10(\n",
        "    root='.',\n",
        "    train=True,\n",
        "    transform=data_transform, # Applying VGG transform to CIFAR10\n",
        "    download=True\n",
        ")\n",
        "\n",
        "test_set = datasets.CIFAR10(\n",
        "    root='.',\n",
        "    train=False,\n",
        "    transform=data_transform, # Applying VGG transform to CIFAR10\n",
        "    download=False\n",
        ")\n",
        "\n",
        "train_loader = DataLoader(train_set, batch_size=args['batch_size'], shuffle=True)\n",
        "test_loader = DataLoader(test_set, batch_size=args['batch_size'], shuffle=False)"
      ],
      "metadata": {
        "colab": {
          "base_uri": "https://localhost:8080/"
        },
        "id": "kPa9_BB7oWkS",
        "outputId": "9c8fc640-e184-407f-b6d0-162e2ebcc605"
      },
      "execution_count": 3,
      "outputs": [
        {
          "output_type": "stream",
          "name": "stdout",
          "text": [
            "Downloading https://www.cs.toronto.edu/~kriz/cifar-10-python.tar.gz to ./cifar-10-python.tar.gz\n"
          ]
        },
        {
          "output_type": "stream",
          "name": "stderr",
          "text": [
            "100%|██████████| 170M/170M [00:03<00:00, 43.5MB/s]\n"
          ]
        },
        {
          "output_type": "stream",
          "name": "stdout",
          "text": [
            "Extracting ./cifar-10-python.tar.gz to .\n"
          ]
        }
      ]
    },
    {
      "cell_type": "code",
      "source": [
        "# Loading the pretrained VGG16\n",
        "net = models.vgg16_bn(pretrained=True).to(args['device'])\n",
        "print(\"\\nOriginal VGG16:\\n\")\n",
        "print(net)"
      ],
      "metadata": {
        "colab": {
          "base_uri": "https://localhost:8080/"
        },
        "id": "D5Ed1_H-ov0R",
        "outputId": "26e2727f-8b8d-4b77-c22f-e58e939e84d5"
      },
      "execution_count": 4,
      "outputs": [
        {
          "output_type": "stream",
          "name": "stderr",
          "text": [
            "/usr/local/lib/python3.10/dist-packages/torchvision/models/_utils.py:208: UserWarning: The parameter 'pretrained' is deprecated since 0.13 and may be removed in the future, please use 'weights' instead.\n",
            "  warnings.warn(\n",
            "/usr/local/lib/python3.10/dist-packages/torchvision/models/_utils.py:223: UserWarning: Arguments other than a weight enum or `None` for 'weights' are deprecated since 0.13 and may be removed in the future. The current behavior is equivalent to passing `weights=VGG16_BN_Weights.IMAGENET1K_V1`. You can also use `weights=VGG16_BN_Weights.DEFAULT` to get the most up-to-date weights.\n",
            "  warnings.warn(msg)\n",
            "Downloading: \"https://download.pytorch.org/models/vgg16_bn-6c64b313.pth\" to /root/.cache/torch/hub/checkpoints/vgg16_bn-6c64b313.pth\n",
            "100%|██████████| 528M/528M [00:02<00:00, 217MB/s]\n"
          ]
        },
        {
          "output_type": "stream",
          "name": "stdout",
          "text": [
            "\n",
            "Original VGG16:\n",
            "\n",
            "VGG(\n",
            "  (features): Sequential(\n",
            "    (0): Conv2d(3, 64, kernel_size=(3, 3), stride=(1, 1), padding=(1, 1))\n",
            "    (1): BatchNorm2d(64, eps=1e-05, momentum=0.1, affine=True, track_running_stats=True)\n",
            "    (2): ReLU(inplace=True)\n",
            "    (3): Conv2d(64, 64, kernel_size=(3, 3), stride=(1, 1), padding=(1, 1))\n",
            "    (4): BatchNorm2d(64, eps=1e-05, momentum=0.1, affine=True, track_running_stats=True)\n",
            "    (5): ReLU(inplace=True)\n",
            "    (6): MaxPool2d(kernel_size=2, stride=2, padding=0, dilation=1, ceil_mode=False)\n",
            "    (7): Conv2d(64, 128, kernel_size=(3, 3), stride=(1, 1), padding=(1, 1))\n",
            "    (8): BatchNorm2d(128, eps=1e-05, momentum=0.1, affine=True, track_running_stats=True)\n",
            "    (9): ReLU(inplace=True)\n",
            "    (10): Conv2d(128, 128, kernel_size=(3, 3), stride=(1, 1), padding=(1, 1))\n",
            "    (11): BatchNorm2d(128, eps=1e-05, momentum=0.1, affine=True, track_running_stats=True)\n",
            "    (12): ReLU(inplace=True)\n",
            "    (13): MaxPool2d(kernel_size=2, stride=2, padding=0, dilation=1, ceil_mode=False)\n",
            "    (14): Conv2d(128, 256, kernel_size=(3, 3), stride=(1, 1), padding=(1, 1))\n",
            "    (15): BatchNorm2d(256, eps=1e-05, momentum=0.1, affine=True, track_running_stats=True)\n",
            "    (16): ReLU(inplace=True)\n",
            "    (17): Conv2d(256, 256, kernel_size=(3, 3), stride=(1, 1), padding=(1, 1))\n",
            "    (18): BatchNorm2d(256, eps=1e-05, momentum=0.1, affine=True, track_running_stats=True)\n",
            "    (19): ReLU(inplace=True)\n",
            "    (20): Conv2d(256, 256, kernel_size=(3, 3), stride=(1, 1), padding=(1, 1))\n",
            "    (21): BatchNorm2d(256, eps=1e-05, momentum=0.1, affine=True, track_running_stats=True)\n",
            "    (22): ReLU(inplace=True)\n",
            "    (23): MaxPool2d(kernel_size=2, stride=2, padding=0, dilation=1, ceil_mode=False)\n",
            "    (24): Conv2d(256, 512, kernel_size=(3, 3), stride=(1, 1), padding=(1, 1))\n",
            "    (25): BatchNorm2d(512, eps=1e-05, momentum=0.1, affine=True, track_running_stats=True)\n",
            "    (26): ReLU(inplace=True)\n",
            "    (27): Conv2d(512, 512, kernel_size=(3, 3), stride=(1, 1), padding=(1, 1))\n",
            "    (28): BatchNorm2d(512, eps=1e-05, momentum=0.1, affine=True, track_running_stats=True)\n",
            "    (29): ReLU(inplace=True)\n",
            "    (30): Conv2d(512, 512, kernel_size=(3, 3), stride=(1, 1), padding=(1, 1))\n",
            "    (31): BatchNorm2d(512, eps=1e-05, momentum=0.1, affine=True, track_running_stats=True)\n",
            "    (32): ReLU(inplace=True)\n",
            "    (33): MaxPool2d(kernel_size=2, stride=2, padding=0, dilation=1, ceil_mode=False)\n",
            "    (34): Conv2d(512, 512, kernel_size=(3, 3), stride=(1, 1), padding=(1, 1))\n",
            "    (35): BatchNorm2d(512, eps=1e-05, momentum=0.1, affine=True, track_running_stats=True)\n",
            "    (36): ReLU(inplace=True)\n",
            "    (37): Conv2d(512, 512, kernel_size=(3, 3), stride=(1, 1), padding=(1, 1))\n",
            "    (38): BatchNorm2d(512, eps=1e-05, momentum=0.1, affine=True, track_running_stats=True)\n",
            "    (39): ReLU(inplace=True)\n",
            "    (40): Conv2d(512, 512, kernel_size=(3, 3), stride=(1, 1), padding=(1, 1))\n",
            "    (41): BatchNorm2d(512, eps=1e-05, momentum=0.1, affine=True, track_running_stats=True)\n",
            "    (42): ReLU(inplace=True)\n",
            "    (43): MaxPool2d(kernel_size=2, stride=2, padding=0, dilation=1, ceil_mode=False)\n",
            "  )\n",
            "  (avgpool): AdaptiveAvgPool2d(output_size=(7, 7))\n",
            "  (classifier): Sequential(\n",
            "    (0): Linear(in_features=25088, out_features=4096, bias=True)\n",
            "    (1): ReLU(inplace=True)\n",
            "    (2): Dropout(p=0.5, inplace=False)\n",
            "    (3): Linear(in_features=4096, out_features=4096, bias=True)\n",
            "    (4): ReLU(inplace=True)\n",
            "    (5): Dropout(p=0.5, inplace=False)\n",
            "    (6): Linear(in_features=4096, out_features=1000, bias=True)\n",
            "  )\n",
            ")\n"
          ]
        }
      ]
    },
    {
      "cell_type": "code",
      "source": [
        "# I want to replace only the last layer of the classifier. So I find its \"in_features\",\n",
        "# then create a new classifier with everything but the last layer,\n",
        "# and finally add a new Linear layer with \"in_features\" as input,\n",
        "# and that outputs 10 classes (for CIFAR10)\n",
        "\n",
        "in_features = list(net.children())[-1][-1].in_features\n",
        "new_classifier = list(net.classifier.children())[:-1]\n",
        "new_classifier.append(nn.Linear(in_features, 10))\n",
        "\n",
        "# Finally, I replace the old classifier with the new one\n",
        "net.classifier = nn.Sequential(*new_classifier).to(args['device'])\n",
        "print(\"Modified VGG16 Classifier:\\n\")\n",
        "print(net.classifier)"
      ],
      "metadata": {
        "colab": {
          "base_uri": "https://localhost:8080/"
        },
        "id": "36zbOaGlo102",
        "outputId": "f1fe1e23-36f5-48fc-ea18-65cefbc1fb11"
      },
      "execution_count": 5,
      "outputs": [
        {
          "output_type": "stream",
          "name": "stdout",
          "text": [
            "Modified VGG16 Classifier:\n",
            "\n",
            "Sequential(\n",
            "  (0): Linear(in_features=25088, out_features=4096, bias=True)\n",
            "  (1): ReLU(inplace=True)\n",
            "  (2): Dropout(p=0.5, inplace=False)\n",
            "  (3): Linear(in_features=4096, out_features=4096, bias=True)\n",
            "  (4): ReLU(inplace=True)\n",
            "  (5): Dropout(p=0.5, inplace=False)\n",
            "  (6): Linear(in_features=4096, out_features=10, bias=True)\n",
            ")\n"
          ]
        }
      ]
    },
    {
      "cell_type": "code",
      "source": [
        "# For Optimizer and Loss, I can set a lower learning rate for the earlier layers\n",
        "# and a higher one for the classifier layer\n",
        "\n",
        "optimizer = optim.Adam(\n",
        "    [\n",
        "        {\n",
        "            'params': net.features.parameters(),\n",
        "            'lr': args['lr'] * 0.2,\n",
        "            'weight_decay': args['weight_decay'] * 0.2\n",
        "        },\n",
        "        {\n",
        "            'params': net.classifier.parameters(),\n",
        "            'lr': args['lr'],\n",
        "            'weight_decay': args['weight_decay']\n",
        "        }\n",
        "    ]\n",
        ")\n",
        "\n",
        "# Using the Cross Entropy Loss\n",
        "criterion = nn.CrossEntropyLoss().to(args['device'])"
      ],
      "metadata": {
        "id": "8oV4kZ3mpaEP"
      },
      "execution_count": 6,
      "outputs": []
    },
    {
      "cell_type": "code",
      "source": [
        "##### Training function #####\n",
        "\n",
        "def train(train_loader, net, epoch):\n",
        "    # Setting the net for training\n",
        "    net.train()\n",
        "\n",
        "    start = time.time()\n",
        "\n",
        "    epoch_loss  = []\n",
        "    pred_list, label_list = [], []\n",
        "\n",
        "    for k, batch in enumerate(train_loader):\n",
        "        print('\\rTraining batch: {}/{}'.format(k, len(train_loader)),\n",
        "              end='', flush=True)\n",
        "\n",
        "        sample, label = batch\n",
        "        sample = sample.to(args['device'])\n",
        "        label = label.to(args['device'])\n",
        "\n",
        "        # Forward\n",
        "        ypred = net(sample)\n",
        "        loss = criterion(ypred, label)\n",
        "        epoch_loss.append(loss.cpu().data)\n",
        "\n",
        "        # Predictions for accuracy\n",
        "        _, pred = torch.max(ypred, axis=1)\n",
        "        pred_list.append(pred.cpu().numpy())\n",
        "        label_list.append(label.cpu().numpy())\n",
        "\n",
        "        # Backprop\n",
        "        optimizer.zero_grad()\n",
        "        loss.backward()\n",
        "        optimizer.step()\n",
        "\n",
        "    epoch_loss = np.asarray(epoch_loss)\n",
        "    pred_list  = np.asarray(pred_list).ravel()\n",
        "    label_list  = np.asarray(label_list).ravel()\n",
        "    acc = accuracy_score(pred_list, label_list)\n",
        "\n",
        "    end = time.time()\n",
        "    print('\\nEpoch {} [Train]: Loss: {:.4f} ± {:.4f}, Acc: {:.2f}%, Time: {:.2f}s'.format(\n",
        "        epoch,\n",
        "        epoch_loss.mean(),\n",
        "        epoch_loss.std(),\n",
        "        acc * 100,\n",
        "        end - start\n",
        "    ))\n",
        "    return epoch_loss.mean()\n",
        "\n",
        "\n",
        "##### Validation function #####\n",
        "\n",
        "def validate(test_loader, net, epoch):\n",
        "    # Setting the net for validation\n",
        "    net.eval()\n",
        "    start = time.time()\n",
        "\n",
        "    epoch_loss  = []\n",
        "    pred_list, label_list = [], []\n",
        "\n",
        "    with torch.no_grad():\n",
        "        for k, batch in enumerate(test_loader):\n",
        "            print('\\rValidating batch: {}/{}'.format(k, len(test_loader)),\n",
        "                  end='', flush=True)\n",
        "\n",
        "            sample, label = batch\n",
        "            sample = sample.to(args['device'])\n",
        "            label = label.to(args['device'])\n",
        "\n",
        "            # Forward\n",
        "            ypred = net(sample)\n",
        "            loss = criterion(ypred, label)\n",
        "            epoch_loss.append(loss.cpu().data)\n",
        "\n",
        "            # Predictions for accuracy\n",
        "            _, pred = torch.max(ypred, axis=1)\n",
        "            pred_list.append(pred.cpu().numpy())\n",
        "            label_list.append(label.cpu().numpy())\n",
        "\n",
        "    epoch_loss = np.asarray(epoch_loss)\n",
        "    pred_list  = np.asarray(pred_list).ravel()\n",
        "    label_list  = np.asarray(label_list).ravel()\n",
        "    acc = accuracy_score(pred_list, label_list)\n",
        "\n",
        "    end = time.time()\n",
        "    print('\\nEpoch {} [Validate]: Loss: {:.4f} ± {:.4f}, Acc: {:.2f}%, Time: {:.2f}s\\n'.format(\n",
        "        epoch,\n",
        "        epoch_loss.mean(),\n",
        "        epoch_loss.std(),\n",
        "        acc * 100,\n",
        "        end - start\n",
        "    ))\n",
        "    return epoch_loss.mean()"
      ],
      "metadata": {
        "id": "1vLGXkbcqOaw"
      },
      "execution_count": 7,
      "outputs": []
    },
    {
      "cell_type": "code",
      "source": [
        "# Training\n",
        "\n",
        "train_losses, test_losses = [], []\n",
        "\n",
        "for epoch in range(args['epochs']):\n",
        "    train_loss = train(train_loader, net, epoch)\n",
        "    test_loss = validate(test_loader, net, epoch)\n",
        "\n",
        "    train_losses.append(train_loss)\n",
        "    test_losses.append(test_loss)"
      ],
      "metadata": {
        "colab": {
          "base_uri": "https://localhost:8080/"
        },
        "id": "3Y-gXOwFsaGx",
        "outputId": "7a18e5b3-a543-4337-b2cf-b9188197a4c8"
      },
      "execution_count": 8,
      "outputs": [
        {
          "output_type": "stream",
          "name": "stdout",
          "text": [
            "Training batch: 999/1000\n",
            "Epoch 0 [Train]: Loss: 0.5543 ± 0.2648, Acc: 82.20%, Time: 521.13s\n",
            "Validating batch: 199/200\n",
            "Epoch 0 [Validate]: Loss: 0.4883 ± 0.1437, Acc: 84.72%, Time: 41.14s\n",
            "\n",
            "Training batch: 999/1000\n",
            "Epoch 1 [Train]: Loss: 0.3210 ± 0.1278, Acc: 89.88%, Time: 519.66s\n",
            "Validating batch: 199/200\n",
            "Epoch 1 [Validate]: Loss: 0.3531 ± 0.1198, Acc: 88.61%, Time: 41.11s\n",
            "\n",
            "Training batch: 999/1000\n",
            "Epoch 2 [Train]: Loss: 0.2506 ± 0.1136, Acc: 92.18%, Time: 519.62s\n",
            "Validating batch: 199/200\n",
            "Epoch 2 [Validate]: Loss: 0.3208 ± 0.1380, Acc: 90.15%, Time: 41.29s\n",
            "\n",
            "Training batch: 999/1000\n",
            "Epoch 3 [Train]: Loss: 0.2142 ± 0.1170, Acc: 93.46%, Time: 519.64s\n",
            "Validating batch: 199/200\n",
            "Epoch 3 [Validate]: Loss: 0.4342 ± 0.1731, Acc: 87.35%, Time: 40.98s\n",
            "\n",
            "Training batch: 999/1000\n",
            "Epoch 4 [Train]: Loss: 0.1838 ± 0.1040, Acc: 94.46%, Time: 519.55s\n",
            "Validating batch: 199/200\n",
            "Epoch 4 [Validate]: Loss: 0.2913 ± 0.1370, Acc: 91.54%, Time: 41.04s\n",
            "\n",
            "Training batch: 999/1000\n",
            "Epoch 5 [Train]: Loss: 0.1606 ± 0.1027, Acc: 95.24%, Time: 519.54s\n",
            "Validating batch: 199/200\n",
            "Epoch 5 [Validate]: Loss: 0.3136 ± 0.1397, Acc: 91.11%, Time: 41.07s\n",
            "\n",
            "Training batch: 999/1000\n",
            "Epoch 6 [Train]: Loss: 0.1495 ± 0.1018, Acc: 95.58%, Time: 519.57s\n",
            "Validating batch: 199/200\n",
            "Epoch 6 [Validate]: Loss: 0.3419 ± 0.1786, Acc: 90.22%, Time: 41.14s\n",
            "\n",
            "Training batch: 999/1000\n",
            "Epoch 7 [Train]: Loss: 0.1328 ± 0.0926, Acc: 96.02%, Time: 519.56s\n",
            "Validating batch: 199/200\n",
            "Epoch 7 [Validate]: Loss: 0.3765 ± 0.1831, Acc: 89.87%, Time: 41.09s\n",
            "\n",
            "Training batch: 999/1000\n",
            "Epoch 8 [Train]: Loss: 0.1323 ± 0.0970, Acc: 96.12%, Time: 519.57s\n",
            "Validating batch: 199/200\n",
            "Epoch 8 [Validate]: Loss: 0.3724 ± 0.1843, Acc: 90.33%, Time: 41.12s\n",
            "\n",
            "Training batch: 999/1000\n",
            "Epoch 9 [Train]: Loss: 0.1128 ± 0.0897, Acc: 96.74%, Time: 519.54s\n",
            "Validating batch: 199/200\n",
            "Epoch 9 [Validate]: Loss: 0.3497 ± 0.1854, Acc: 90.80%, Time: 41.14s\n",
            "\n"
          ]
        }
      ]
    },
    {
      "cell_type": "code",
      "source": [
        "# Plot Loss Curves\n",
        "\n",
        "plt.figure(figsize=(8,5))\n",
        "plt.plot(train_losses, label='Train Loss')\n",
        "plt.plot(test_losses, label='Test Loss')\n",
        "plt.xlabel('Epoch')\n",
        "plt.ylabel('Loss')\n",
        "plt.title('VGG16 Fine-Tuning on CIFAR10')\n",
        "plt.legend()\n",
        "plt.show()"
      ],
      "metadata": {
        "colab": {
          "base_uri": "https://localhost:8080/",
          "height": 487
        },
        "id": "PtXyEAlKEZoS",
        "outputId": "0cdbb201-fb60-4dad-e849-44717e3494bc"
      },
      "execution_count": 9,
      "outputs": [
        {
          "output_type": "display_data",
          "data": {
            "text/plain": [
              "<Figure size 800x500 with 1 Axes>"
            ],
            "image/png": "[encoded data removed]"
          },
          "metadata": {}
        }
      ]
    }
  ]
}